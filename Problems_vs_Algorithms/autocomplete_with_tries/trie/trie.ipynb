{
 "cells": [
  {
   "metadata": {},
   "cell_type": "markdown",
   "source": [
    "### Building a Trie in Python\n",
    "Before we start let us reiterate the key components of a Trie or Prefix Tree. A trie is a tree-like data structure that stores a dynamic set of strings. Tries are commonly used to facilitate operations like predictive text or autocomplete features on mobile phones or web search.\n",
    "\n",
    "Before we move into the autocomplete function we need to create a working trie for storing strings. We will create two classes:\n",
    "\n",
    "A 'Trie' class that contains the root node (empty string)\n",
    "A 'TrieNode' class that exposes the general functionality of the Trie, like inserting a word or finding the node which represents a prefix.\n",
    "\n",
    "Give it a try by implementing the TrieNode and Trie classes below!"
   ],
   "id": "4c841151e34508f"
  },
  {
   "metadata": {
    "ExecuteTime": {
     "end_time": "2024-06-26T10:05:53.609248Z",
     "start_time": "2024-06-26T10:05:53.603318Z"
    }
   },
   "cell_type": "code",
   "source": [
    "## Represents a single node in the Trie\n",
    "class TrieNode:\n",
    "    def __init__(self):\n",
    "        ## Initialize this node in the Trie\n",
    "        self.children = {}\n",
    "        self.is_word = False\n",
    "    \n",
    "    def insert(self, char):\n",
    "        ## Add a child node in this Trie\n",
    "        if char not in self.children:\n",
    "            self.children[char] = TrieNode()\n",
    "            \n",
    "        \n",
    "## The Trie itself containing the root node and insert/find functions\n",
    "class Trie:\n",
    "    def __init__(self):\n",
    "        ## Initialize this Trie (add a root node)\n",
    "        self.root = TrieNode()\n",
    "\n",
    "    def insert(self, word):\n",
    "        ## Add a word to the Trie\n",
    "        node = self.root\n",
    "        for char in word:\n",
    "            node.insert(char)\n",
    "            node = node.children[char]\n",
    "        node.is_word = True\n",
    "\n",
    "    def find(self, prefix):\n",
    "        ## Find the Trie node that represents this prefix\n",
    "        node = self.root\n",
    "        for char in prefix:\n",
    "            if char not in node.children:\n",
    "                return None\n",
    "            node = node.children[char]\n",
    "        return node\n",
    "    \n",
    "    \n"
   ],
   "id": "b7da5439b5f13e6a",
   "outputs": [],
   "execution_count": 9
  },
  {
   "metadata": {},
   "cell_type": "markdown",
   "source": [
    "### Finding Suffixes\n",
    "Now that we have a functioning Trie, we need to add the ability to list suffixes to implement our autocomplete feature. To do that, we need to implement a new function on the TrieNode object that will return all complete word suffixes that exist below it in the trie. For example, if our Trie contains the words [\"fun\", \"function\", \"factory\"] and we ask for suffixes from the f node, we would expect to receive [\"un\", \"unction\", \"actory\"] back from node.suffixes().\n",
    "\n",
    "Using the code you wrote for the TrieNode above, try to add the suffixes function below. (Hint: recurse down the trie, collecting suffixes as you go.)"
   ],
   "id": "27a2694d57759957"
  },
  {
   "metadata": {
    "ExecuteTime": {
     "end_time": "2024-06-26T10:05:58.666745Z",
     "start_time": "2024-06-26T10:05:58.660836Z"
    }
   },
   "cell_type": "code",
   "source": [
    "class TrieNode:\n",
    "    def __init__(self):\n",
    "        ## Initialize this node in the Trie\n",
    "        self.children = {}\n",
    "        self.is_word = False\n",
    "        pass\n",
    "    \n",
    "    def insert(self, char):\n",
    "        ## Add a child node in this Trie\n",
    "        if char not in self.children:\n",
    "            self.children[char] = TrieNode()\n",
    "        pass\n",
    "        \n",
    "    def suffixes(self, suffix = ''):\n",
    "        ## Recursive function that collects the suffix for \n",
    "        ## all complete words below this point\n",
    "        suffixes = []\n",
    "        if self.is_word:\n",
    "            suffixes.append(suffix)\n",
    "        for char in self.children:\n",
    "            suffixes.extend(self.children[char].suffixes(suffix + char))\n",
    "        return suffixes\n",
    "    "
   ],
   "id": "5055fdf58ca53b0a",
   "outputs": [],
   "execution_count": 10
  },
  {
   "metadata": {
    "ExecuteTime": {
     "end_time": "2024-06-26T10:06:00.002428Z",
     "start_time": "2024-06-26T10:06:00.000421Z"
    }
   },
   "cell_type": "code",
   "source": "",
   "id": "31d30538de18ce12",
   "outputs": [],
   "execution_count": 10
  },
  {
   "metadata": {},
   "cell_type": "markdown",
   "source": [
    "### Testing it all out\n",
    "\n",
    "Run the following code to add some words to your trie and then use the interactive search box to see what your code returns."
   ],
   "id": "dfa3cb974d77d48f"
  },
  {
   "metadata": {
    "ExecuteTime": {
     "end_time": "2024-06-26T10:06:02.472232Z",
     "start_time": "2024-06-26T10:06:02.468885Z"
    }
   },
   "cell_type": "code",
   "source": [
    "MyTrie = Trie()\n",
    "wordList = [\n",
    "    \"ant\", \"anthology\", \"antagonist\", \"antonym\", \n",
    "    \"fun\", \"function\", \"factory\", \n",
    "    \"trie\", \"trigger\", \"trigonometry\", \"tripod\"\n",
    "]\n",
    "for word in wordList:\n",
    "    MyTrie.insert(word)"
   ],
   "id": "e939cb8d0efe4bae",
   "outputs": [],
   "execution_count": 11
  },
  {
   "metadata": {
    "jupyter": {
     "is_executing": true
    },
    "ExecuteTime": {
     "start_time": "2024-06-26T10:06:04.187793Z"
    }
   },
   "cell_type": "code",
   "source": [
    "from ipywidgets import widgets\n",
    "from IPython.display import display\n",
    "from ipywidgets import interact\n",
    "def f(prefix):\n",
    "    if prefix != '':\n",
    "        prefixNode = MyTrie.find(prefix)\n",
    "        if prefixNode:\n",
    "            print('\\n'.join(prefixNode.suffixes()))\n",
    "        else:\n",
    "            print(prefix + \" not found\")\n",
    "    else:\n",
    "        print('')\n",
    "interact(f,prefix='');"
   ],
   "id": "b29a8d82de012735",
   "outputs": [
    {
     "data": {
      "text/plain": [
       "interactive(children=(Text(value='', description='prefix'), Output()), _dom_classes=('widget-interact',))"
      ],
      "application/vnd.jupyter.widget-view+json": {
       "version_major": 2,
       "version_minor": 0,
       "model_id": "6d516a3b652b49df8c6c0928f6978e4f"
      }
     },
     "metadata": {},
     "output_type": "display_data"
    }
   ],
   "execution_count": null
  }
 ],
 "metadata": {
  "kernelspec": {
   "display_name": "Python 3",
   "language": "python",
   "name": "python3"
  },
  "language_info": {
   "codemirror_mode": {
    "name": "ipython",
    "version": 2
   },
   "file_extension": ".py",
   "mimetype": "text/x-python",
   "name": "python",
   "nbconvert_exporter": "python",
   "pygments_lexer": "ipython2",
   "version": "2.7.6"
  }
 },
 "nbformat": 4,
 "nbformat_minor": 5
}
