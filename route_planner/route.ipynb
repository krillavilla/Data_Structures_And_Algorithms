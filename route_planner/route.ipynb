{
 "cells": [
  {
   "metadata": {},
   "cell_type": "markdown",
   "source": [
    "# Implementing a Route Planner\n",
    "In this project you will use A\\* search to implement a \"Google-maps\" style route planning algorithm."
   ],
   "id": "8a77807f92f26ee"
  },
  {
   "metadata": {
    "ExecuteTime": {
     "end_time": "2024-07-02T07:26:26.592751Z",
     "start_time": "2024-07-02T07:26:26.552489Z"
    }
   },
   "cell_type": "code",
   "source": [
    "# Run this cell first!\n",
    "\n",
    "from helpers import Map, load_map, show_map\n",
    "from student_code import shortest_path\n",
    "\n",
    "%reload_ext autoreload\n",
    "%autoreload 2"
   ],
   "id": "fbc121e30a2defb3",
   "outputs": [],
   "execution_count": 21
  },
  {
   "metadata": {},
   "cell_type": "markdown",
   "source": "### Map Basics",
   "id": "c6b80f1a5925926c"
  },
  {
   "metadata": {
    "ExecuteTime": {
     "end_time": "2024-07-02T07:26:26.647549Z",
     "start_time": "2024-07-02T07:26:26.594112Z"
    }
   },
   "cell_type": "code",
   "source": [
    "map_10 = load_map('map-10.pickle')\n",
    "show_map(map_10)"
   ],
   "id": "8e234f5ea52e31b4",
   "outputs": [
    {
     "ename": "EOFError",
     "evalue": "Ran out of input",
     "output_type": "error",
     "traceback": [
      "\u001B[0;31m---------------------------------------------------------------------------\u001B[0m",
      "\u001B[0;31mEOFError\u001B[0m                                  Traceback (most recent call last)",
      "Cell \u001B[0;32mIn[22], line 1\u001B[0m\n\u001B[0;32m----> 1\u001B[0m map_10 \u001B[38;5;241m=\u001B[39m load_map(\u001B[38;5;124m'\u001B[39m\u001B[38;5;124mmap-10.pickle\u001B[39m\u001B[38;5;124m'\u001B[39m)\n\u001B[1;32m      2\u001B[0m show_map(map_10)\n",
      "File \u001B[0;32m~/Documents/Data_Structure_And_Algorithms_Udacity/Route_Planner/route_planner/helpers.py:24\u001B[0m, in \u001B[0;36mload_map\u001B[0;34m(name)\u001B[0m\n\u001B[1;32m     22\u001B[0m \u001B[38;5;28;01mdef\u001B[39;00m \u001B[38;5;21mload_map\u001B[39m(name):\n\u001B[1;32m     23\u001B[0m     \u001B[38;5;28;01mwith\u001B[39;00m \u001B[38;5;28mopen\u001B[39m(name, \u001B[38;5;124m'\u001B[39m\u001B[38;5;124mrb\u001B[39m\u001B[38;5;124m'\u001B[39m) \u001B[38;5;28;01mas\u001B[39;00m f:\n\u001B[0;32m---> 24\u001B[0m         G \u001B[38;5;241m=\u001B[39m pickle\u001B[38;5;241m.\u001B[39mload(f)\n\u001B[1;32m     25\u001B[0m     \u001B[38;5;28;01mreturn\u001B[39;00m Map(G)\n",
      "\u001B[0;31mEOFError\u001B[0m: Ran out of input"
     ]
    }
   ],
   "execution_count": 22
  },
  {
   "metadata": {},
   "cell_type": "markdown",
   "source": [
    "The map above (run the code cell if you don't see it) shows a disconnected network of 10 intersections. The two intersections on the left are connected to each other but they are not connected to the rest of the road network. On the graph above, the edge between 2 nodes(intersections) represents a literal straight road not just an abstract connection of 2 cities.\n",
    "\n",
    "These `Map` objects have two properties you will want to use to implement A\\* search: `intersections` and `roads`\n",
    "\n",
    "**Intersections**\n",
    "\n",
    "The `intersections` are represented as a dictionary. \n",
    "\n",
    "In this example, there are 10 intersections, each identified by an x,y coordinate. The coordinates are listed below. You can hover over each dot in the map above to see the intersection number."
   ],
   "id": "4aac87377d0befa"
  },
  {
   "metadata": {},
   "cell_type": "code",
   "source": "map_10.intersections",
   "id": "4e93ed5d8372bdaa",
   "outputs": [],
   "execution_count": null
  },
  {
   "metadata": {},
   "cell_type": "markdown",
   "source": [
    "**Roads**\n",
    "\n",
    "The `roads` property is a list where, if `i` is an intersection, `roads[i]` contains a list of the intersections that intersection `i` connects to."
   ],
   "id": "74180410e1b07860"
  },
  {
   "metadata": {},
   "cell_type": "code",
   "source": [
    "# this shows that intersection 0 connects to intersections 7, 6, and 5\n",
    "map_10.roads[0] "
   ],
   "id": "683da86fcbf17598",
   "outputs": [],
   "execution_count": null
  },
  {
   "metadata": {},
   "cell_type": "code",
   "source": [
    "# This shows the full connectivity of the map\n",
    "map_10.roads"
   ],
   "id": "c9f3074f8836855f",
   "outputs": [],
   "execution_count": null
  },
  {
   "metadata": {},
   "cell_type": "code",
   "source": [
    "# map_40 is a bigger map than map_10\n",
    "map_40 = load_map('map-40.pickle')\n",
    "show_map(map_40)"
   ],
   "id": "ec649b69b3765646",
   "outputs": [],
   "execution_count": null
  },
  {
   "metadata": {},
   "cell_type": "markdown",
   "source": [
    "### Advanced Visualizations\n",
    "\n",
    "The map above shows a network of roads which spans 40 different intersections (labeled 0 through 39). \n",
    "\n",
    "The `show_map` function which generated this map also takes a few optional parameters which might be useful for visualizaing the output of the search algorithm you will write.\n",
    "\n",
    "* `start` - The \"start\" node for the search algorithm.\n",
    "* `goal`  - The \"goal\" node.\n",
    "* `path`  - An array of integers which corresponds to a valid sequence of intersection visits on the map."
   ],
   "id": "8d7a2b00060f486c"
  },
  {
   "metadata": {},
   "cell_type": "code",
   "source": [
    "# run this code, note the effect of including the optional\n",
    "# parameters in the function call.\n",
    "show_map(map_40, start=5, goal=34, path=[5,16,37,12,34])"
   ],
   "id": "43091cba70e0d6c5",
   "outputs": [],
   "execution_count": null
  },
  {
   "metadata": {},
   "cell_type": "markdown",
   "source": [
    "### Writing your algorithm\n",
    "You should open the file `student_code.py` in another tab and work on your algorithm there. Do that by selecting `File > Open` and then selecting the appropriate file.\n",
    "\n",
    "The algorithm you write will be responsible for generating a `path` like the one passed into `show_map` above. In fact, when called with the same map, start and goal, as above you algorithm should produce the path `[5, 16, 37, 12, 34]`\n",
    "\n",
    "```bash\n",
    "> shortest_path(map_40, 5, 34)\n",
    "[5, 16, 37, 12, 34]\n",
    "```"
   ],
   "id": "4ec56c68c5cd62f6"
  },
  {
   "metadata": {},
   "cell_type": "code",
   "source": [
    "path = shortest_path(map_40, 5, 34)\n",
    "if path == [5, 16, 37, 12, 34]:\n",
    "    print(\"great! Your code works for these inputs!\")\n",
    "else:\n",
    "    print(\"something is off, your code produced the following:\")\n",
    "    print(path)"
   ],
   "id": "311f23c1fc17827b",
   "outputs": [],
   "execution_count": null
  },
  {
   "metadata": {},
   "cell_type": "markdown",
   "source": [
    "### Testing your Code\n",
    "If the code below produces no errors, your algorithm is behaving correctly. You are almost ready to submit! Before you submit, go through the following submission checklist:\n",
    "\n",
    "**Submission Checklist**\n",
    "\n",
    "1. Does my code pass all tests?\n",
    "2. Does my code implement `A*` search and not some other search algorithm?\n",
    "3. Do I use an **admissible heuristic** to direct search efforts towards the goal?\n",
    "4. Do I use data structures which avoid unnecessarily slow lookups?\n",
    "\n",
    "When you can answer \"yes\" to all of these questions, submit by pressing the Submit button in the lower right!"
   ],
   "id": "ab42ca630dccbe0f"
  },
  {
   "metadata": {},
   "cell_type": "code",
   "source": [
    "from test import test\n",
    "\n",
    "test(shortest_path)"
   ],
   "id": "b295a4f9a1ad4bb3",
   "outputs": [],
   "execution_count": null
  }
 ],
 "metadata": {
  "kernelspec": {
   "display_name": "Python 3",
   "language": "python",
   "name": "python3"
  },
  "language_info": {
   "codemirror_mode": {
    "name": "ipython",
    "version": 2
   },
   "file_extension": ".py",
   "mimetype": "text/x-python",
   "name": "python",
   "nbconvert_exporter": "python",
   "pygments_lexer": "ipython2",
   "version": "2.7.6"
  }
 },
 "nbformat": 4,
 "nbformat_minor": 5
}
